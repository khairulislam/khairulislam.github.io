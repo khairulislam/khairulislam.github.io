{
 "cells": [
  {
   "cell_type": "markdown",
   "metadata": {
    "deletable": true,
    "editable": true
   },
   "source": [
    "# Publications markdown generator for academicpages\n",
    "\n",
    "Takes a TSV of publications with metadata and converts them for use with [academicpages.github.io](academicpages.github.io). This is an interactive Jupyter notebook ([see more info here](http://jupyter-notebook-beginner-guide.readthedocs.io/en/latest/what_is_jupyter.html)). The core python code is also in `publications.py`. Run either from the `markdown_generator` folder after replacing `publications.tsv` with one containing your data.\n",
    "\n",
    "TODO: Make this work with BibTex and other databases of citations, rather than Stuart's non-standard TSV format and citation style.\n"
   ]
  },
  {
   "cell_type": "markdown",
   "metadata": {},
   "source": [
    "## Data format\n",
    "\n",
    "The TSV needs to have the following columns: pub_date, title, venue, excerpt, citation, site_url, and paper_url, with a header at the top. \n",
    "\n",
    "- `excerpt` and `paper_url` can be blank, but the others must have values. \n",
    "- `pub_date` must be formatted as YYYY-MM-DD.\n",
    "- `url_slug` will be the descriptive part of the .md file and the permalink URL for the page about the paper. The .md file will be `YYYY-MM-DD-[url_slug].md` and the permalink will be `https://[yourdomain]/publications/YYYY-MM-DD-[url_slug]`\n",
    "\n",
    "This is how the raw file looks (it doesn't look pretty, use a spreadsheet or other program to edit and create)."
   ]
  },
  {
   "cell_type": "code",
   "execution_count": 1,
   "metadata": {
    "collapsed": false
   },
   "outputs": [
    {
     "name": "stderr",
     "output_type": "stream",
     "text": [
      "'cat' is not recognized as an internal or external command,\n",
      "operable program or batch file.\n"
     ]
    }
   ],
   "source": [
    "!cat publications.tsv"
   ]
  },
  {
   "cell_type": "markdown",
   "metadata": {},
   "source": [
    "## Import pandas\n",
    "\n",
    "We are using the very handy pandas library for dataframes."
   ]
  },
  {
   "cell_type": "code",
   "execution_count": 2,
   "metadata": {
    "collapsed": true,
    "deletable": true,
    "editable": true
   },
   "outputs": [],
   "source": [
    "import pandas as pd"
   ]
  },
  {
   "cell_type": "markdown",
   "metadata": {},
   "source": [
    "## Import TSV\n",
    "\n",
    "Pandas makes this easy with the read_csv function. We are using a TSV, so we specify the separator as a tab, or `\\t`.\n",
    "\n",
    "I found it important to put this data in a tab-separated values format, because there are a lot of commas in this kind of data and comma-separated values can get messed up. However, you can modify the import statement, as pandas also has read_excel(), read_json(), and others."
   ]
  },
  {
   "cell_type": "code",
   "execution_count": 16,
   "metadata": {
    "collapsed": false,
    "deletable": true,
    "editable": true
   },
   "outputs": [
    {
     "data": {
      "text/html": [
       "<div>\n",
       "<style scoped>\n",
       "    .dataframe tbody tr th:only-of-type {\n",
       "        vertical-align: middle;\n",
       "    }\n",
       "\n",
       "    .dataframe tbody tr th {\n",
       "        vertical-align: top;\n",
       "    }\n",
       "\n",
       "    .dataframe thead th {\n",
       "        text-align: right;\n",
       "    }\n",
       "</style>\n",
       "<table border=\"1\" class=\"dataframe\">\n",
       "  <thead>\n",
       "    <tr style=\"text-align: right;\">\n",
       "      <th></th>\n",
       "      <th>pub_date</th>\n",
       "      <th>title</th>\n",
       "      <th>venue</th>\n",
       "      <th>excerpt</th>\n",
       "      <th>citation</th>\n",
       "      <th>url_slug</th>\n",
       "      <th>paper_url</th>\n",
       "      <th>slides_url</th>\n",
       "    </tr>\n",
       "  </thead>\n",
       "  <tbody>\n",
       "    <tr>\n",
       "      <th>0</th>\n",
       "      <td>3/27/2024</td>\n",
       "      <td>Interpreting Time Series Transformer Models an...</td>\n",
       "      <td>AAAI'24 WORKSHOP: AI FOR TIME SERIES ANALYSIS ...</td>\n",
       "      <td>Md. Khairul Islam, Tyler Valentine, Timothy Jo...</td>\n",
       "      <td>NaN</td>\n",
       "      <td>NaN</td>\n",
       "      <td>https://arxiv.org/html/2401.15119v1</td>\n",
       "      <td>https://github.com/UVA-MLSys/COVID-19-age-groups</td>\n",
       "    </tr>\n",
       "    <tr>\n",
       "      <th>1</th>\n",
       "      <td>3/23/2024</td>\n",
       "      <td>Temporal Dependencies and Spatio-Temporal Patt...</td>\n",
       "      <td>Twenty-Ninth AAAI/SIGAI Doctoral Consortium</td>\n",
       "      <td>Md. Khairul Islam, and Judy Fox.</td>\n",
       "      <td>NaN</td>\n",
       "      <td>NaN</td>\n",
       "      <td>https://ojs.aaai.org/index.php/AAAI/article/vi...</td>\n",
       "      <td>https://github.com/UVA-MLSys/SA-Timeseries</td>\n",
       "    </tr>\n",
       "    <tr>\n",
       "      <th>2</th>\n",
       "      <td>7/8/2023</td>\n",
       "      <td>Interpreting County-Level COVID-19 Infections ...</td>\n",
       "      <td>IEEE International Conference on Digital Health</td>\n",
       "      <td>Md. Khairul Islam, Yingzheng Liu, Andrej Erkel...</td>\n",
       "      <td>NaN</td>\n",
       "      <td>NaN</td>\n",
       "      <td>https://ieeexplore.ieee.org/abstract/document/...</td>\n",
       "      <td>https://github.com/UVA-MLSys/gpce-covid</td>\n",
       "    </tr>\n",
       "    <tr>\n",
       "      <th>3</th>\n",
       "      <td>2/13/2023</td>\n",
       "      <td>Does Differential Privacy Impact Bias in Pretr...</td>\n",
       "      <td>AAAI Workshop on Privacy-Preserving Artificial...</td>\n",
       "      <td>Md Khairul Islam, Andrew Wang, Tianhao Wang, Y...</td>\n",
       "      <td>NaN</td>\n",
       "      <td>NaN</td>\n",
       "      <td>https://drive.google.com/file/d/1fLQIK3Z5IEOBq...</td>\n",
       "      <td>https://github.com/khairulislam/DP-on-NLP-Bias</td>\n",
       "    </tr>\n",
       "    <tr>\n",
       "      <th>4</th>\n",
       "      <td>5/9/2023</td>\n",
       "      <td>MVAM: Multi-variant Attacks on Memory for IoT ...</td>\n",
       "      <td>Proceedings of Cyber-Physical Systems and Inte...</td>\n",
       "      <td>Arup Kumar Sarker, Md. Khairul Islam, Yuan Tia...</td>\n",
       "      <td>NaN</td>\n",
       "      <td>NaN</td>\n",
       "      <td>https://dl.acm.org/doi/pdf/10.1145/3576914.358...</td>\n",
       "      <td>https://github.com/arupcsedu/MVAM</td>\n",
       "    </tr>\n",
       "    <tr>\n",
       "      <th>5</th>\n",
       "      <td>2/1/2022</td>\n",
       "      <td>Early prediction for merged vs abandoned code ...</td>\n",
       "      <td>Information and Software Technology</td>\n",
       "      <td>Islam K, Ahmed T, Shahriyar R, Iqbal A, Uddin G.</td>\n",
       "      <td>NaN</td>\n",
       "      <td>NaN</td>\n",
       "      <td>https://www.sciencedirect.com/science/article/...</td>\n",
       "      <td>https://github.com/khairulislam/Predict-Code-C...</td>\n",
       "    </tr>\n",
       "    <tr>\n",
       "      <th>6</th>\n",
       "      <td>11/27/2020</td>\n",
       "      <td>Network Anomaly Detection Using LightGBM: A Gr...</td>\n",
       "      <td>International Telecommunication Networks and A...</td>\n",
       "      <td>Md. Khairul Islam, Prithula Hridi, M. S. Hossa...</td>\n",
       "      <td>NaN</td>\n",
       "      <td>NaN</td>\n",
       "      <td>https://ieeexplore.ieee.org/stamp/stamp.jsp?ar...</td>\n",
       "      <td>https://github.com/khairulislam/Anomaly-Detect...</td>\n",
       "    </tr>\n",
       "  </tbody>\n",
       "</table>\n",
       "</div>"
      ],
      "text/plain": [
       "     pub_date                                              title  \\\n",
       "0   3/27/2024  Interpreting Time Series Transformer Models an...   \n",
       "1   3/23/2024  Temporal Dependencies and Spatio-Temporal Patt...   \n",
       "2    7/8/2023  Interpreting County-Level COVID-19 Infections ...   \n",
       "3   2/13/2023  Does Differential Privacy Impact Bias in Pretr...   \n",
       "4    5/9/2023  MVAM: Multi-variant Attacks on Memory for IoT ...   \n",
       "5    2/1/2022  Early prediction for merged vs abandoned code ...   \n",
       "6  11/27/2020  Network Anomaly Detection Using LightGBM: A Gr...   \n",
       "\n",
       "                                               venue  \\\n",
       "0  AAAI'24 WORKSHOP: AI FOR TIME SERIES ANALYSIS ...   \n",
       "1        Twenty-Ninth AAAI/SIGAI Doctoral Consortium   \n",
       "2    IEEE International Conference on Digital Health   \n",
       "3  AAAI Workshop on Privacy-Preserving Artificial...   \n",
       "4  Proceedings of Cyber-Physical Systems and Inte...   \n",
       "5                Information and Software Technology   \n",
       "6  International Telecommunication Networks and A...   \n",
       "\n",
       "                                             excerpt  citation  url_slug  \\\n",
       "0  Md. Khairul Islam, Tyler Valentine, Timothy Jo...       NaN       NaN   \n",
       "1                   Md. Khairul Islam, and Judy Fox.       NaN       NaN   \n",
       "2  Md. Khairul Islam, Yingzheng Liu, Andrej Erkel...       NaN       NaN   \n",
       "3  Md Khairul Islam, Andrew Wang, Tianhao Wang, Y...       NaN       NaN   \n",
       "4  Arup Kumar Sarker, Md. Khairul Islam, Yuan Tia...       NaN       NaN   \n",
       "5   Islam K, Ahmed T, Shahriyar R, Iqbal A, Uddin G.       NaN       NaN   \n",
       "6  Md. Khairul Islam, Prithula Hridi, M. S. Hossa...       NaN       NaN   \n",
       "\n",
       "                                           paper_url  \\\n",
       "0                https://arxiv.org/html/2401.15119v1   \n",
       "1  https://ojs.aaai.org/index.php/AAAI/article/vi...   \n",
       "2  https://ieeexplore.ieee.org/abstract/document/...   \n",
       "3  https://drive.google.com/file/d/1fLQIK3Z5IEOBq...   \n",
       "4  https://dl.acm.org/doi/pdf/10.1145/3576914.358...   \n",
       "5  https://www.sciencedirect.com/science/article/...   \n",
       "6  https://ieeexplore.ieee.org/stamp/stamp.jsp?ar...   \n",
       "\n",
       "                                          slides_url  \n",
       "0   https://github.com/UVA-MLSys/COVID-19-age-groups  \n",
       "1         https://github.com/UVA-MLSys/SA-Timeseries  \n",
       "2            https://github.com/UVA-MLSys/gpce-covid  \n",
       "3     https://github.com/khairulislam/DP-on-NLP-Bias  \n",
       "4                  https://github.com/arupcsedu/MVAM  \n",
       "5  https://github.com/khairulislam/Predict-Code-C...  \n",
       "6  https://github.com/khairulislam/Anomaly-Detect...  "
      ]
     },
     "execution_count": 16,
     "metadata": {},
     "output_type": "execute_result"
    }
   ],
   "source": [
    "publications = pd.read_csv(\"publications.csv\", sep=\",\", header=0)\n",
    "publications\n"
   ]
  },
  {
   "cell_type": "code",
   "execution_count": 17,
   "metadata": {},
   "outputs": [],
   "source": [
    "publications.fillna('', inplace=True)"
   ]
  },
  {
   "cell_type": "markdown",
   "metadata": {},
   "source": [
    "## Escape special characters\n",
    "\n",
    "YAML is very picky about how it takes a valid string, so we are replacing single and double quotes (and ampersands) with their HTML encoded equivilents. This makes them look not so readable in raw format, but they are parsed and rendered nicely."
   ]
  },
  {
   "cell_type": "code",
   "execution_count": 18,
   "metadata": {
    "collapsed": true,
    "deletable": true,
    "editable": true
   },
   "outputs": [],
   "source": [
    "html_escape_table = {\n",
    "    \"&\": \"&amp;\",\n",
    "    '\"': \"&quot;\",\n",
    "    \"'\": \"&apos;\"\n",
    "    }\n",
    "\n",
    "def html_escape(text):\n",
    "    \"\"\"Produce entities within text.\"\"\"\n",
    "    return \"\".join(html_escape_table.get(c,c) for c in text)"
   ]
  },
  {
   "cell_type": "markdown",
   "metadata": {},
   "source": [
    "## Creating the markdown files\n",
    "\n",
    "This is where the heavy lifting is done. This loops through all the rows in the TSV dataframe, then starts to concatentate a big string (```md```) that contains the markdown for each type. It does the YAML metadata first, then does the description for the individual page."
   ]
  },
  {
   "cell_type": "code",
   "execution_count": 19,
   "metadata": {},
   "outputs": [],
   "source": [
    "for row, item in publications.iterrows():\n",
    "    break"
   ]
  },
  {
   "cell_type": "code",
   "execution_count": 22,
   "metadata": {
    "collapsed": false,
    "deletable": true,
    "editable": true
   },
   "outputs": [],
   "source": [
    "import os\n",
    "from datetime import datetime\n",
    "\n",
    "for row, item in publications.iterrows():\n",
    "    # convert the format from '%m/%d/%Y' to '%Y-%m-%d'\n",
    "    html_filename = datetime.strptime(item.pub_date, '%m/%d/%Y').strftime('%Y-%m-%d')\n",
    "    \n",
    "    md_filename = html_filename + \".md\"\n",
    "    \n",
    "    ## YAML variables\n",
    "    \n",
    "    md = \"---\\ntitle: \\\"\"   + item.title + '\"\\n'\n",
    "    \n",
    "    md += \"\"\"collection: publications\"\"\"\n",
    "    \n",
    "    md += \"\"\"\\npermalink: /publication/\"\"\" + html_filename\n",
    "    \n",
    "    if len(str(item.excerpt)) > 5:\n",
    "        md += \"\\nexcerpt: '\" + html_escape(item.excerpt) + \"'\"\n",
    "    \n",
    "    md += \"\\ndate: \" + html_filename # '/' format doesn't work with yaml\n",
    "    \n",
    "    md += \"\\nvenue: '\" + html_escape(item.venue) + \"'\"\n",
    "    \n",
    "    if len(str(item.slides_url)) > 5:\n",
    "        md += \"\\nslidesurl: '\" + item.slides_url + \"'\"\n",
    "\n",
    "    if len(str(item.paper_url)) > 5:\n",
    "        md += \"\\npaperurl: '\" + item.paper_url + \"'\"\n",
    "    \n",
    "    if len(str(item.citation)) > 5:\n",
    "        md += \"\\ncitation: '\" + html_escape(item.citation) + \"'\"\n",
    "    \n",
    "    md += \"\\n---\"\n",
    "    \n",
    "    ## Markdown description for individual page\n",
    "        \n",
    "    # if len(str(item.excerpt)) > 5:\n",
    "    #     md += \"\\n\" + html_escape(item.excerpt) + \"\\n\"\n",
    "\n",
    "    # if len(str(item.paper_url)) > 5:\n",
    "    #     md += \"\\n[Paper](\" + item.paper_url + \")\\n\" \n",
    "        \n",
    "    # if len(str(item.slides_url)) > 5:\n",
    "    #     md += \"\\n[Code](\" + item.slides_url + \")\\n\" \n",
    "    \n",
    "    # if len(str(item.citation)) > 5:\n",
    "    #     md += \"\\nRecommended citation: \" + item.citation\n",
    "    \n",
    "    md_filename = os.path.basename(md_filename)\n",
    "       \n",
    "    with open(\"../_publications/\" + md_filename, 'w') as f:\n",
    "        f.write(md)"
   ]
  },
  {
   "cell_type": "markdown",
   "metadata": {},
   "source": [
    "These files are in the publications directory, one directory below where we're working from."
   ]
  },
  {
   "cell_type": "code",
   "execution_count": 7,
   "metadata": {
    "collapsed": false,
    "deletable": true,
    "editable": true
   },
   "outputs": [
    {
     "name": "stderr",
     "output_type": "stream",
     "text": [
      "'ls' is not recognized as an internal or external command,\n",
      "operable program or batch file.\n"
     ]
    }
   ],
   "source": [
    "!ls ../_publications/"
   ]
  },
  {
   "cell_type": "code",
   "execution_count": 8,
   "metadata": {
    "collapsed": false,
    "deletable": true,
    "editable": true
   },
   "outputs": [
    {
     "name": "stderr",
     "output_type": "stream",
     "text": [
      "'cat' is not recognized as an internal or external command,\n",
      "operable program or batch file.\n"
     ]
    }
   ],
   "source": [
    "!cat ../_publications/2009-10-01-paper-title-number-1.md"
   ]
  },
  {
   "cell_type": "code",
   "execution_count": null,
   "metadata": {
    "collapsed": true,
    "deletable": true,
    "editable": true
   },
   "outputs": [],
   "source": []
  }
 ],
 "metadata": {
  "kernelspec": {
   "display_name": "Python 3",
   "language": "python",
   "name": "python3"
  },
  "language_info": {
   "codemirror_mode": {
    "name": "ipython",
    "version": 3
   },
   "file_extension": ".py",
   "mimetype": "text/x-python",
   "name": "python",
   "nbconvert_exporter": "python",
   "pygments_lexer": "ipython3",
   "version": "3.10.11"
  }
 },
 "nbformat": 4,
 "nbformat_minor": 0
}
